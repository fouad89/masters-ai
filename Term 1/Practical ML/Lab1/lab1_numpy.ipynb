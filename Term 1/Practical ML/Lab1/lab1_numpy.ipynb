{
 "cells": [
  {
   "cell_type": "code",
   "execution_count": 2,
   "source": [
    "from os import path\n",
    "import numpy as np"
   ],
   "outputs": [],
   "metadata": {}
  },
  {
   "cell_type": "code",
   "execution_count": 1,
   "source": [
    "FOLDER = 'NumPy_Datasets'\n",
    "cork_file = 'CorkRainfall.txt'\n",
    "dublin_file = 'DublinRainfall.txt'\n"
   ],
   "outputs": [],
   "metadata": {}
  },
  {
   "cell_type": "code",
   "execution_count": 3,
   "source": [
    "cork_dataset = np.genfromtxt(path.join(FOLDER, cork_file))"
   ],
   "outputs": [],
   "metadata": {}
  },
  {
   "cell_type": "code",
   "execution_count": 4,
   "source": [
    "cork_dataset"
   ],
   "outputs": [
    {
     "output_type": "execute_result",
     "data": {
      "text/plain": [
       "array([[1.962e+03, 1.000e+00, 1.346e+02, 1.250e+01, 2.200e+01],\n",
       "       [1.962e+03, 2.000e+00, 7.720e+01, 1.120e+01, 1.700e+01],\n",
       "       [1.962e+03, 3.000e+00, 7.360e+01, 1.340e+01, 1.300e+01],\n",
       "       ...,\n",
       "       [2.011e+03, 1.000e+01, 9.180e+01, 2.440e+01, 2.200e+01],\n",
       "       [2.011e+03, 1.100e+01, 1.486e+02, 3.520e+01, 2.300e+01],\n",
       "       [2.011e+03, 1.200e+01, 8.710e+01, 2.200e+01, 2.600e+01]])"
      ]
     },
     "metadata": {},
     "execution_count": 4
    }
   ],
   "metadata": {}
  },
  {
   "cell_type": "code",
   "execution_count": 5,
   "source": [
    "# Each line of the file contains the following precipitation information pertaining to a specific month and year:\n",
    "# Year\n",
    "# Month(1 = Jan, 2 = Feb, 3 = March, etc. )\n",
    "# Total Rainfall (Millimetres)\n",
    "# Most Rainfall in a Day (Millimetres)\n",
    "# Number of Raindays (A day is classified as a rain day if it has >= 0.2mm rain) (Number)"
   ],
   "outputs": [],
   "metadata": {}
  },
  {
   "cell_type": "markdown",
   "source": [
    "## Task 1"
   ],
   "metadata": {}
  },
  {
   "cell_type": "code",
   "execution_count": 6,
   "source": [
    "# Print out the max ‘Most Rainfall in a Day’ value and the average \n",
    "# ‘Most Rainfall in a Day’ value for the Cork data \n",
    "# (that is,obtain the maximumvalue contained in this column of data and the average value in this column of data)"
   ],
   "outputs": [],
   "metadata": {}
  },
  {
   "cell_type": "code",
   "execution_count": 7,
   "source": [
    "cork_dataset.shape"
   ],
   "outputs": [
    {
     "output_type": "execute_result",
     "data": {
      "text/plain": [
       "(600, 5)"
      ]
     },
     "metadata": {},
     "execution_count": 7
    }
   ],
   "metadata": {}
  },
  {
   "cell_type": "code",
   "execution_count": 8,
   "source": [
    "max_rainfall = np.max(cork_dataset[:,3])\n",
    "avg_rainfall = np.mean(cork_dataset[:,3])\n",
    "\n",
    "\n",
    "\n",
    "print(f'The Maximum rainfall {max_rainfall}')\n",
    "print(f\"The Average rainfall {avg_rainfall}\")"
   ],
   "outputs": [
    {
     "output_type": "stream",
     "name": "stdout",
     "text": [
      "The Maximum rainfall 86.7\n",
      "The Average rainfall 22.9105\n"
     ]
    }
   ],
   "metadata": {}
  },
  {
   "cell_type": "markdown",
   "source": [
    "## Task 2"
   ],
   "metadata": {}
  },
  {
   "cell_type": "code",
   "execution_count": 9,
   "source": [
    "# Display all unique years for which there is data in the dataset (you can use np.unique) \n",
    "# Ask the user to select a specific year. You should then output the sum of the Rain Days column for that year\n",
    "# (you do this by adding up the \"Number of rain days”for all 12 rowspertaining to the selected year)"
   ],
   "outputs": [],
   "metadata": {}
  },
  {
   "cell_type": "code",
   "execution_count": 10,
   "source": [
    "print(f'Unique Years: {np.unique(cork_dataset[:,0])}')"
   ],
   "outputs": [
    {
     "output_type": "stream",
     "name": "stdout",
     "text": [
      "Unique Years: [1962. 1963. 1964. 1965. 1966. 1967. 1968. 1969. 1970. 1971. 1972. 1973.\n",
      " 1974. 1975. 1976. 1977. 1978. 1979. 1980. 1981. 1982. 1983. 1984. 1985.\n",
      " 1986. 1987. 1988. 1989. 1990. 1991. 1992. 1993. 1994. 1995. 1996. 1997.\n",
      " 1998. 1999. 2000. 2001. 2002. 2003. 2004. 2005. 2006. 2007. 2008. 2009.\n",
      " 2010. 2011.]\n"
     ]
    }
   ],
   "metadata": {}
  },
  {
   "cell_type": "code",
   "execution_count": 11,
   "source": [
    "year = int(input(\"Which year would you like the data? \"))\n",
    "data_filter = cork_dataset[:,0] == year\n",
    "year_data = cork_dataset[data_filter]\n",
    "total_rain = np.sum(year_data[:,-1])\n",
    "print(f\"The total rain for {year} is {total_rain} millimeters\")"
   ],
   "outputs": [
    {
     "output_type": "stream",
     "name": "stdout",
     "text": [
      "The total rain for 1962 is 193.0 millimeters\n"
     ]
    }
   ],
   "metadata": {}
  },
  {
   "cell_type": "code",
   "execution_count": 12,
   "source": [
    "# Calculate the wettest month of the year in Cork based using the “Total Rainfall” value. \n",
    "# The month that has the highest cumulative “Total Rainfall” value across all years should be classified as the wettest \n",
    "# (please note you can use a for loop in answering this question)."
   ],
   "outputs": [],
   "metadata": {}
  },
  {
   "cell_type": "code",
   "execution_count": 13,
   "source": [
    "wettest_months = []\n",
    "for i in range(1,13):\n",
    "    month_filter = cork_dataset[:,1] == i\n",
    "    month_data = cork_dataset[month_filter]\n",
    "    rain_amount = np.sum(month_data[:,2], axis=0)\n",
    "    wettest_months.append(rain_amount)\n",
    "print(f\"The wettest month in cork is {np.argmax(wettest_months) + 1} with {np.max(wettest_months)} millimeters\")"
   ],
   "outputs": [
    {
     "output_type": "stream",
     "name": "stdout",
     "text": [
      "The wettest month in cork is 1 with 6848.1 millimeters\n"
     ]
    }
   ],
   "metadata": {}
  },
  {
   "cell_type": "code",
   "execution_count": 60,
   "source": [
    "# This question focuses on the Number of Rain days column. The user is asked to enter a maximum threshold value for the number of rain days. \n",
    "# Your code should then output the percentage of the time (percentage of rows in the dataset) where the number of rain days is less than or equal to the threshold value."
   ],
   "outputs": [],
   "metadata": {}
  },
  {
   "cell_type": "code",
   "execution_count": null,
   "source": [],
   "outputs": [],
   "metadata": {}
  }
 ],
 "metadata": {
  "orig_nbformat": 4,
  "language_info": {
   "name": "python",
   "version": "3.8.8",
   "mimetype": "text/x-python",
   "codemirror_mode": {
    "name": "ipython",
    "version": 3
   },
   "pygments_lexer": "ipython3",
   "nbconvert_exporter": "python",
   "file_extension": ".py"
  },
  "kernelspec": {
   "name": "python3",
   "display_name": "Python 3.8.8 64-bit ('base': conda)"
  },
  "interpreter": {
   "hash": "016f416f43c7de9d71e7f049375c6b8b903fae571cb02d2ed6c16dadea121115"
  }
 },
 "nbformat": 4,
 "nbformat_minor": 2
}